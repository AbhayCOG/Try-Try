{
 "cells": [
  {
   "cell_type": "code",
   "execution_count": 1,
   "id": "a1572f3e-a10e-4460-8e61-f51826633cad",
   "metadata": {
    "tags": []
   },
   "outputs": [],
   "source": [
    "import pandas as pd\n",
    "import cv2\n",
    "import numpy as np\n",
    "import os\n",
    "import shutil\n",
    "import tensorflow as tf\n",
    "import matplotlib.pyplot as plt\n",
    "import pickle\n",
    "import tensorflow as tf"
   ]
  },
  {
   "cell_type": "code",
   "execution_count": 2,
   "id": "a8e05b72-ad13-4101-9719-308b4c16b3cc",
   "metadata": {
    "tags": []
   },
   "outputs": [],
   "source": [
    "p1 = \"train/\"\n",
    "p2 = \"train/train/images/\""
   ]
  },
  {
   "cell_type": "code",
   "execution_count": 3,
   "id": "296a9467-4adb-40a9-8426-6cd8533c0109",
   "metadata": {
    "tags": []
   },
   "outputs": [],
   "source": [
    "lis = os.listdir(p1)"
   ]
  },
  {
   "cell_type": "code",
   "execution_count": 4,
   "id": "79df1bca-a920-484b-b2d2-249881c0c4eb",
   "metadata": {
    "tags": []
   },
   "outputs": [],
   "source": [
    "lis = lis[1:]"
   ]
  },
  {
   "cell_type": "code",
   "execution_count": 5,
   "id": "500fd1b6-f1c0-449f-8f5a-6bc2a196234b",
   "metadata": {
    "tags": []
   },
   "outputs": [],
   "source": [
    "# lis"
   ]
  },
  {
   "cell_type": "code",
   "execution_count": 6,
   "id": "63b530fb-f8e8-4939-8f93-0569f9be99b7",
   "metadata": {
    "tags": []
   },
   "outputs": [],
   "source": [
    "for i in lis:\n",
    "  if str(i).endswith(\".tif\"):\n",
    "    image = f\"{p1}{str(i)}\"\n",
    "    shutil.copy(image, f\"{p2}{str(i)}\")\n",
    "    # shutil.copy(f\"{p2}{str(i)}\",f\"{p3}{str(i)}\")"
   ]
  },
  {
   "cell_type": "code",
   "execution_count": 7,
   "id": "c9bc3ed3-658e-486d-8f68-80651a6531a6",
   "metadata": {},
   "outputs": [
    {
     "name": "stdout",
     "output_type": "stream",
     "text": [
      "Defaulting to user installation because normal site-packages is not writeable\n",
      "Requirement already satisfied: ultralytics in c:\\users\\gupta\\appdata\\roaming\\python\\python311\\site-packages (8.1.0)\n",
      "Requirement already satisfied: matplotlib>=3.3.0 in c:\\users\\gupta\\appdata\\roaming\\python\\python311\\site-packages (from ultralytics) (3.8.2)\n",
      "Requirement already satisfied: numpy>=1.22.2 in c:\\users\\gupta\\appdata\\roaming\\python\\python311\\site-packages (from ultralytics) (1.26.2)\n",
      "Requirement already satisfied: opencv-python>=4.6.0 in c:\\users\\gupta\\appdata\\roaming\\python\\python311\\site-packages (from ultralytics) (4.8.1.78)\n",
      "Requirement already satisfied: pillow>=7.1.2 in c:\\programdata\\anaconda3\\lib\\site-packages (from ultralytics) (9.4.0)\n",
      "Requirement already satisfied: pyyaml>=5.3.1 in c:\\programdata\\anaconda3\\lib\\site-packages (from ultralytics) (6.0)\n",
      "Requirement already satisfied: requests>=2.23.0 in c:\\programdata\\anaconda3\\lib\\site-packages (from ultralytics) (2.31.0)\n",
      "Requirement already satisfied: scipy>=1.4.1 in c:\\programdata\\anaconda3\\lib\\site-packages (from ultralytics) (1.11.1)\n",
      "Requirement already satisfied: torch>=1.8.0 in c:\\users\\gupta\\appdata\\roaming\\python\\python311\\site-packages (from ultralytics) (2.1.2)\n",
      "Requirement already satisfied: torchvision>=0.9.0 in c:\\users\\gupta\\appdata\\roaming\\python\\python311\\site-packages (from ultralytics) (0.16.2)\n",
      "Requirement already satisfied: tqdm>=4.64.0 in c:\\programdata\\anaconda3\\lib\\site-packages (from ultralytics) (4.65.0)\n",
      "Requirement already satisfied: psutil in c:\\programdata\\anaconda3\\lib\\site-packages (from ultralytics) (5.9.0)\n",
      "Requirement already satisfied: py-cpuinfo in c:\\programdata\\anaconda3\\lib\\site-packages (from ultralytics) (8.0.0)\n",
      "Requirement already satisfied: thop>=0.1.1 in c:\\users\\gupta\\appdata\\roaming\\python\\python311\\site-packages (from ultralytics) (0.1.1.post2209072238)\n",
      "Requirement already satisfied: pandas>=1.1.4 in c:\\users\\gupta\\appdata\\roaming\\python\\python311\\site-packages (from ultralytics) (2.1.3)\n",
      "Requirement already satisfied: seaborn>=0.11.0 in c:\\programdata\\anaconda3\\lib\\site-packages (from ultralytics) (0.12.2)\n",
      "Requirement already satisfied: hub-sdk>=0.0.2 in c:\\users\\gupta\\appdata\\roaming\\python\\python311\\site-packages (from ultralytics) (0.0.3)\n",
      "Requirement already satisfied: contourpy>=1.0.1 in c:\\programdata\\anaconda3\\lib\\site-packages (from matplotlib>=3.3.0->ultralytics) (1.0.5)\n",
      "Requirement already satisfied: cycler>=0.10 in c:\\programdata\\anaconda3\\lib\\site-packages (from matplotlib>=3.3.0->ultralytics) (0.11.0)\n",
      "Requirement already satisfied: fonttools>=4.22.0 in c:\\programdata\\anaconda3\\lib\\site-packages (from matplotlib>=3.3.0->ultralytics) (4.25.0)\n",
      "Requirement already satisfied: kiwisolver>=1.3.1 in c:\\programdata\\anaconda3\\lib\\site-packages (from matplotlib>=3.3.0->ultralytics) (1.4.4)\n",
      "Requirement already satisfied: packaging>=20.0 in c:\\programdata\\anaconda3\\lib\\site-packages (from matplotlib>=3.3.0->ultralytics) (23.1)\n",
      "Requirement already satisfied: pyparsing>=2.3.1 in c:\\programdata\\anaconda3\\lib\\site-packages (from matplotlib>=3.3.0->ultralytics) (3.0.9)\n",
      "Requirement already satisfied: python-dateutil>=2.7 in c:\\programdata\\anaconda3\\lib\\site-packages (from matplotlib>=3.3.0->ultralytics) (2.8.2)\n",
      "Requirement already satisfied: pytz>=2020.1 in c:\\programdata\\anaconda3\\lib\\site-packages (from pandas>=1.1.4->ultralytics) (2023.3.post1)\n",
      "Requirement already satisfied: tzdata>=2022.1 in c:\\programdata\\anaconda3\\lib\\site-packages (from pandas>=1.1.4->ultralytics) (2023.3)\n",
      "Requirement already satisfied: charset-normalizer<4,>=2 in c:\\programdata\\anaconda3\\lib\\site-packages (from requests>=2.23.0->ultralytics) (2.0.4)\n",
      "Requirement already satisfied: idna<4,>=2.5 in c:\\programdata\\anaconda3\\lib\\site-packages (from requests>=2.23.0->ultralytics) (3.4)\n",
      "Requirement already satisfied: urllib3<3,>=1.21.1 in c:\\programdata\\anaconda3\\lib\\site-packages (from requests>=2.23.0->ultralytics) (1.26.16)\n",
      "Requirement already satisfied: certifi>=2017.4.17 in c:\\programdata\\anaconda3\\lib\\site-packages (from requests>=2.23.0->ultralytics) (2023.7.22)\n",
      "Requirement already satisfied: filelock in c:\\programdata\\anaconda3\\lib\\site-packages (from torch>=1.8.0->ultralytics) (3.9.0)\n",
      "Requirement already satisfied: typing-extensions in c:\\programdata\\anaconda3\\lib\\site-packages (from torch>=1.8.0->ultralytics) (4.7.1)\n",
      "Requirement already satisfied: sympy in c:\\programdata\\anaconda3\\lib\\site-packages (from torch>=1.8.0->ultralytics) (1.11.1)\n",
      "Requirement already satisfied: networkx in c:\\programdata\\anaconda3\\lib\\site-packages (from torch>=1.8.0->ultralytics) (3.1)\n",
      "Requirement already satisfied: jinja2 in c:\\programdata\\anaconda3\\lib\\site-packages (from torch>=1.8.0->ultralytics) (3.1.2)\n",
      "Requirement already satisfied: fsspec in c:\\programdata\\anaconda3\\lib\\site-packages (from torch>=1.8.0->ultralytics) (2023.4.0)\n",
      "Requirement already satisfied: colorama in c:\\programdata\\anaconda3\\lib\\site-packages (from tqdm>=4.64.0->ultralytics) (0.4.6)\n",
      "Requirement already satisfied: six>=1.5 in c:\\programdata\\anaconda3\\lib\\site-packages (from python-dateutil>=2.7->matplotlib>=3.3.0->ultralytics) (1.16.0)\n",
      "Requirement already satisfied: MarkupSafe>=2.0 in c:\\programdata\\anaconda3\\lib\\site-packages (from jinja2->torch>=1.8.0->ultralytics) (2.1.1)\n",
      "Requirement already satisfied: mpmath>=0.19 in c:\\programdata\\anaconda3\\lib\\site-packages (from sympy->torch>=1.8.0->ultralytics) (1.3.0)\n"
     ]
    },
    {
     "name": "stderr",
     "output_type": "stream",
     "text": [
      "\n",
      "[notice] A new release of pip is available: 23.3.1 -> 23.3.2\n",
      "[notice] To update, run: python.exe -m pip install --upgrade pip\n"
     ]
    }
   ],
   "source": [
    "!pip install ultralytics"
   ]
  },
  {
   "cell_type": "code",
   "execution_count": 10,
   "id": "d1bd9aff-05b1-48f9-9e19-ca099b89f231",
   "metadata": {
    "tags": []
   },
   "outputs": [
    {
     "name": "stdout",
     "output_type": "stream",
     "text": [
      "\n",
      "Saving runs\\segment\\predict10\\TCGA_DU_6401_19831001_43\\stage0_Conv_features.png... (32/64)\n",
      "Saving runs\\segment\\predict10\\TCGA_DU_6401_19831001_43\\stage1_Conv_features.png... (32/128)\n",
      "Saving runs\\segment\\predict10\\TCGA_DU_6401_19831001_43\\stage2_C2f_features.png... (32/128)\n",
      "Saving runs\\segment\\predict10\\TCGA_DU_6401_19831001_43\\stage3_Conv_features.png... (32/256)\n",
      "Saving runs\\segment\\predict10\\TCGA_DU_6401_19831001_43\\stage4_C2f_features.png... (32/256)\n",
      "Saving runs\\segment\\predict10\\TCGA_DU_6401_19831001_43\\stage5_Conv_features.png... (32/512)\n",
      "Saving runs\\segment\\predict10\\TCGA_DU_6401_19831001_43\\stage6_C2f_features.png... (32/512)\n",
      "Saving runs\\segment\\predict10\\TCGA_DU_6401_19831001_43\\stage7_Conv_features.png... (32/512)\n",
      "Saving runs\\segment\\predict10\\TCGA_DU_6401_19831001_43\\stage8_C2f_features.png... (32/512)\n",
      "Saving runs\\segment\\predict10\\TCGA_DU_6401_19831001_43\\stage9_SPPF_features.png... (32/512)\n",
      "Saving runs\\segment\\predict10\\TCGA_DU_6401_19831001_43\\stage10_Upsample_features.png... (32/512)\n",
      "Saving runs\\segment\\predict10\\TCGA_DU_6401_19831001_43\\stage11_Concat_features.png... (32/1024)\n",
      "Saving runs\\segment\\predict10\\TCGA_DU_6401_19831001_43\\stage12_C2f_features.png... (32/512)\n",
      "Saving runs\\segment\\predict10\\TCGA_DU_6401_19831001_43\\stage13_Upsample_features.png... (32/512)\n",
      "Saving runs\\segment\\predict10\\TCGA_DU_6401_19831001_43\\stage14_Concat_features.png... (32/768)\n",
      "Saving runs\\segment\\predict10\\TCGA_DU_6401_19831001_43\\stage15_C2f_features.png... (32/256)\n",
      "Saving runs\\segment\\predict10\\TCGA_DU_6401_19831001_43\\stage16_Conv_features.png... (32/256)\n",
      "Saving runs\\segment\\predict10\\TCGA_DU_6401_19831001_43\\stage17_Concat_features.png... (32/768)\n",
      "Saving runs\\segment\\predict10\\TCGA_DU_6401_19831001_43\\stage18_C2f_features.png... (32/512)\n",
      "Saving runs\\segment\\predict10\\TCGA_DU_6401_19831001_43\\stage19_Conv_features.png... (32/512)\n",
      "Saving runs\\segment\\predict10\\TCGA_DU_6401_19831001_43\\stage20_Concat_features.png... (32/1024)\n",
      "Saving runs\\segment\\predict10\\TCGA_DU_6401_19831001_43\\stage21_C2f_features.png... (32/512)\n",
      "image 1/1 C:\\Datasets\\yolov8\\jsondata2\\temst\\TCGA_DU_6401_19831001_43.tif: 256x256 (no detections), 14522.0ms\n",
      "Speed: 0.0ms preprocess, 14522.0ms inference, 0.0ms postprocess per image at shape (1, 3, 256, 256)\n"
     ]
    },
    {
     "data": {
      "text/plain": [
       "[ultralytics.engine.results.Results object with attributes:\n",
       " \n",
       " boxes: ultralytics.engine.results.Boxes object\n",
       " keypoints: None\n",
       " masks: None\n",
       " names: {0: 'Tumor'}\n",
       " obb: None\n",
       " orig_img: array([[[0, 0, 0],\n",
       "         [0, 0, 0],\n",
       "         [0, 0, 0],\n",
       "         ...,\n",
       "         [0, 0, 0],\n",
       "         [0, 0, 0],\n",
       "         [0, 0, 0]],\n",
       " \n",
       "        [[0, 0, 0],\n",
       "         [0, 0, 0],\n",
       "         [0, 0, 0],\n",
       "         ...,\n",
       "         [0, 0, 0],\n",
       "         [0, 0, 0],\n",
       "         [0, 0, 0]],\n",
       " \n",
       "        [[0, 0, 0],\n",
       "         [0, 0, 0],\n",
       "         [0, 0, 0],\n",
       "         ...,\n",
       "         [0, 0, 0],\n",
       "         [0, 0, 0],\n",
       "         [0, 0, 0]],\n",
       " \n",
       "        ...,\n",
       " \n",
       "        [[0, 0, 0],\n",
       "         [0, 0, 0],\n",
       "         [0, 0, 0],\n",
       "         ...,\n",
       "         [0, 1, 0],\n",
       "         [0, 0, 0],\n",
       "         [0, 0, 0]],\n",
       " \n",
       "        [[0, 0, 0],\n",
       "         [0, 0, 0],\n",
       "         [0, 0, 0],\n",
       "         ...,\n",
       "         [0, 0, 0],\n",
       "         [0, 0, 0],\n",
       "         [0, 0, 0]],\n",
       " \n",
       "        [[0, 0, 0],\n",
       "         [0, 0, 0],\n",
       "         [0, 0, 0],\n",
       "         ...,\n",
       "         [0, 0, 0],\n",
       "         [0, 0, 0],\n",
       "         [0, 0, 0]]], dtype=uint8)\n",
       " orig_shape: (256, 256)\n",
       " path: 'C:\\\\Datasets\\\\yolov8\\\\jsondata2\\\\temst\\\\TCGA_DU_6401_19831001_43.tif'\n",
       " probs: None\n",
       " save_dir: None\n",
       " speed: {'preprocess': 0.0, 'inference': 14522.029399871826, 'postprocess': 0.0}]"
      ]
     },
     "execution_count": 10,
     "metadata": {},
     "output_type": "execute_result"
    }
   ],
   "source": [
    "from ultralytics import YOLO\n",
    "model = YOLO(\"last (3).pt\")\n",
    "model.predict(\"temst/TCGA_DU_6401_19831001_43.tif\",show=True,conf=0.6,visualize=True,save=False,show_labels=True,show_conf=True,line_width=2)\n"
   ]
  },
  {
   "cell_type": "code",
   "execution_count": 4,
   "id": "baa00e01-661f-416a-b019-e88a94c9b2f7",
   "metadata": {
    "tags": []
   },
   "outputs": [
    {
     "name": "stderr",
     "output_type": "stream",
     "text": [
      "'yolo' is not recognized as an internal or external command,\n",
      "operable program or batch file.\n"
     ]
    }
   ],
   "source": [
    "!yolo help\n"
   ]
  },
  {
   "cell_type": "code",
   "execution_count": null,
   "id": "e66cb08b-8ca4-4493-9319-072b4234f1e1",
   "metadata": {},
   "outputs": [],
   "source": []
  }
 ],
 "metadata": {
  "kernelspec": {
   "display_name": "Python 3 (ipykernel)",
   "language": "python",
   "name": "python3"
  },
  "language_info": {
   "codemirror_mode": {
    "name": "ipython",
    "version": 3
   },
   "file_extension": ".py",
   "mimetype": "text/x-python",
   "name": "python",
   "nbconvert_exporter": "python",
   "pygments_lexer": "ipython3",
   "version": "3.11.5"
  }
 },
 "nbformat": 4,
 "nbformat_minor": 5
}
