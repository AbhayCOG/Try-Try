{
 "cells": [
  {
   "cell_type": "code",
   "execution_count": 32,
   "id": "3ef8d530-386a-40a1-aef8-18952be0edc4",
   "metadata": {
    "tags": []
   },
   "outputs": [],
   "source": [
    "import os\n",
    "import cv2\n",
    "import numpy as np\n",
    "import matplotlib.pyplot as plt\n",
    "p1 = \"C:/Datasets/yolov8/train/images/\"\n",
    "p2 = \"C:/Datasets/yolov8/train/images/bw/\"\n",
    "lis = os.listdir(p1)\n",
    "lis=lis[:-1]\n",
    "os.chdir(p2)"
   ]
  },
  {
   "cell_type": "code",
   "execution_count": 41,
   "id": "716e5241-a962-4efd-a337-9e0e39a3b5d1",
   "metadata": {
    "tags": []
   },
   "outputs": [],
   "source": [
    "for i in lis:\n",
    "  img_path = f\"{p1}{i}\"\n",
    "  img = cv2.imread(img_path, cv2.IMREAD_GRAYSCALE)\n",
    "\n",
    "  cv2.imwrite(f\"{i}\",img)"
   ]
  },
  {
   "cell_type": "code",
   "execution_count": 37,
   "id": "f86244ca-18a2-4816-a94c-e74927c92c63",
   "metadata": {
    "tags": []
   },
   "outputs": [],
   "source": [
    "lis = lis[1:]"
   ]
  },
  {
   "cell_type": "code",
   "execution_count": 38,
   "id": "05026445-025b-446d-b571-2374dea1a36a",
   "metadata": {
    "tags": []
   },
   "outputs": [
    {
     "data": {
      "text/plain": [
       "['126700562_8e27720147_b.png',\n",
       " '145053828_e0e748717c_b.png',\n",
       " '154446334_5d41cd1375_b.png',\n",
       " '155815494_800fc9aa32_b.png',\n",
       " '321888854_3723b6f10b_b.png',\n",
       " '332344155_71be3a3b22_b.png',\n",
       " '485227412_e335662bb5_b.png',\n",
       " '518678836_94d58e3839_b.png',\n",
       " '53500107_d24b11b3c2_b.png']"
      ]
     },
     "execution_count": 38,
     "metadata": {},
     "output_type": "execute_result"
    }
   ],
   "source": [
    "lis"
   ]
  },
  {
   "cell_type": "code",
   "execution_count": 15,
   "id": "add81ad7-d9c4-47e9-aa9a-cefc9a06ec95",
   "metadata": {
    "tags": []
   },
   "outputs": [
    {
     "data": {
      "text/plain": [
       "'yolov8/train/images/126700562_8e27720147_b.png'"
      ]
     },
     "execution_count": 15,
     "metadata": {},
     "output_type": "execute_result"
    }
   ],
   "source": [
    "os.path.join(p1,\"126700562_8e27720147_b.png\")"
   ]
  },
  {
   "cell_type": "code",
   "execution_count": 51,
   "id": "6308d0f6-a05b-461f-8357-d342d923457c",
   "metadata": {
    "tags": []
   },
   "outputs": [
    {
     "name": "stdout",
     "output_type": "stream",
     "text": [
      "[[ 90  84  85 ... 255 255 255]\n",
      " [ 72  64  70 ... 255 255 255]\n",
      " [ 51  45  68 ... 255 255 255]\n",
      " ...\n",
      " [ 60  55  64 ...  26  25  29]\n",
      " [ 52  50  61 ...  38  34  34]\n",
      " [ 58  54  55 ...  44  41  47]]\n"
     ]
    },
    {
     "data": {
      "text/plain": [
       "True"
      ]
     },
     "execution_count": 51,
     "metadata": {},
     "output_type": "execute_result"
    }
   ],
   "source": [
    "img = cv2.imread(\"C:/Datasets/3927754171_9011487133_b.jpg\", cv2.IMREAD_GRAYSCALE)\n",
    "print(img)\n",
    "cv2.imwrite(f\"3927754171_9011487133_b.jpg\",img)"
   ]
  },
  {
   "cell_type": "code",
   "execution_count": null,
   "id": "f65866a7-a0e0-4c22-9edc-c8db0805ae4a",
   "metadata": {},
   "outputs": [],
   "source": [
    "\"123\""
   ]
  }
 ],
 "metadata": {
  "kernelspec": {
   "display_name": "Python 3 (ipykernel)",
   "language": "python",
   "name": "python3"
  },
  "language_info": {
   "codemirror_mode": {
    "name": "ipython",
    "version": 3
   },
   "file_extension": ".py",
   "mimetype": "text/x-python",
   "name": "python",
   "nbconvert_exporter": "python",
   "pygments_lexer": "ipython3",
   "version": "3.11.5"
  }
 },
 "nbformat": 4,
 "nbformat_minor": 5
}
