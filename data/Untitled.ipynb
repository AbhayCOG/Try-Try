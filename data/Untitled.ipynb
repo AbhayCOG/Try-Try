{
 "cells": [
  {
   "cell_type": "code",
   "execution_count": 1,
   "id": "6beae63b-2911-4990-b370-08be52147a9f",
   "metadata": {
    "tags": []
   },
   "outputs": [],
   "source": [
    "import pandas as pd\n",
    "import cv2\n",
    "import numpy as np\n",
    "import os\n",
    "import shutil\n",
    "import tensorflow as tf\n",
    "import matplotlib.pyplot as plt\n",
    "import pickle\n",
    "import tensorflow as tf"
   ]
  },
  {
   "cell_type": "code",
   "execution_count": 5,
   "id": "9ffb3737-c779-48e6-8c87-4119cb55fefb",
   "metadata": {
    "tags": []
   },
   "outputs": [],
   "source": [
    "p1 = \"1/\"\n",
    "p2 = \"blah/\"\n",
    "p3 = \"blah/json/\""
   ]
  },
  {
   "cell_type": "code",
   "execution_count": 6,
   "id": "c9c0c276-5ad3-46d4-bed9-debf56418fcb",
   "metadata": {
    "tags": []
   },
   "outputs": [],
   "source": [
    "lis = os.listdir(p2)"
   ]
  },
  {
   "cell_type": "code",
   "execution_count": 11,
   "id": "df741ba1-2b38-4ceb-a2cb-eea90083b6f8",
   "metadata": {
    "tags": []
   },
   "outputs": [],
   "source": [
    "# lis"
   ]
  },
  {
   "cell_type": "code",
   "execution_count": 8,
   "id": "27ca4786-902c-4317-bf36-b9000be20681",
   "metadata": {
    "tags": []
   },
   "outputs": [],
   "source": [
    "lis=lis[1:]"
   ]
  },
  {
   "cell_type": "code",
   "execution_count": 10,
   "id": "bf169393-9b68-4483-94ad-71506b7153a7",
   "metadata": {
    "tags": []
   },
   "outputs": [],
   "source": [
    "# lis"
   ]
  },
  {
   "cell_type": "code",
   "execution_count": 12,
   "id": "5fed5221-6652-4501-8443-1261b3e5da05",
   "metadata": {
    "tags": []
   },
   "outputs": [],
   "source": [
    "for i in lis:\n",
    "  if str(i).endswith(\".json\"):\n",
    "    img = f\"{str(i)[:-5]}.tif\"\n",
    "    image = f\"{p1}{img}\"\n",
    "    shutil.copy(image, f\"{p3}{img}\")\n",
    "    # shutil.copy(f\"{p2}{str(i)}\",f\"{p3}{str(i)}\")"
   ]
  },
  {
   "cell_type": "code",
   "execution_count": null,
   "id": "cb44e7d5-5403-4817-96f7-b96ecb494d8e",
   "metadata": {},
   "outputs": [],
   "source": []
  }
 ],
 "metadata": {
  "kernelspec": {
   "display_name": "Python 3 (ipykernel)",
   "language": "python",
   "name": "python3"
  },
  "language_info": {
   "codemirror_mode": {
    "name": "ipython",
    "version": 3
   },
   "file_extension": ".py",
   "mimetype": "text/x-python",
   "name": "python",
   "nbconvert_exporter": "python",
   "pygments_lexer": "ipython3",
   "version": "3.11.5"
  }
 },
 "nbformat": 4,
 "nbformat_minor": 5
}
